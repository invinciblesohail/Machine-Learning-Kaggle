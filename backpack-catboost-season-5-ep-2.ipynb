{
 "cells": [
  {
   "cell_type": "markdown",
   "id": "00a32c65",
   "metadata": {
    "_cell_guid": "b1076dfc-b9ad-4769-8c92-a6c4dae69d19",
    "_uuid": "8f2839f25d086af736a60e9eeb907d3b93b6e0e5",
    "papermill": {
     "duration": 0.002932,
     "end_time": "2025-02-07T16:53:03.387007",
     "exception": false,
     "start_time": "2025-02-07T16:53:03.384075",
     "status": "completed"
    },
    "tags": []
   },
   "source": [
    "### Backpack Prediction Challenge using CatBoostRegressor\n",
    "This notebook runs CatBoostRegressor for the regression. The Dataset preprocessing includes handling null values and handling categorical using LabelEncoder. Also, cross validation for 5 folds.  "
   ]
  },
  {
   "cell_type": "code",
   "execution_count": 1,
   "id": "daa8b45d",
   "metadata": {
    "execution": {
     "iopub.execute_input": "2025-02-07T16:53:03.392735Z",
     "iopub.status.busy": "2025-02-07T16:53:03.392504Z",
     "iopub.status.idle": "2025-02-07T16:53:11.860768Z",
     "shell.execute_reply": "2025-02-07T16:53:11.860105Z"
    },
    "papermill": {
     "duration": 8.47262,
     "end_time": "2025-02-07T16:53:11.862283",
     "exception": false,
     "start_time": "2025-02-07T16:53:03.389663",
     "status": "completed"
    },
    "tags": []
   },
   "outputs": [],
   "source": [
    "import pandas as pd\n",
    "import numpy as np\n",
    "from sklearn.model_selection import KFold\n",
    "from catboost import CatBoostRegressor, Pool\n",
    "from sklearn.isotonic import IsotonicRegression\n",
    "from sklearn.metrics import mean_squared_error\n",
    "from sklearn.preprocessing import LabelEncoder\n",
    "import matplotlib.pyplot as plt\n",
    "import seaborn as sns\n",
    "import shap\n",
    "import warnings\n",
    "import optuna\n",
    "warnings.filterwarnings(\"ignore\")"
   ]
  },
  {
   "cell_type": "code",
   "execution_count": 2,
   "id": "384196bf",
   "metadata": {
    "execution": {
     "iopub.execute_input": "2025-02-07T16:53:11.868471Z",
     "iopub.status.busy": "2025-02-07T16:53:11.868094Z",
     "iopub.status.idle": "2025-02-07T16:53:12.887612Z",
     "shell.execute_reply": "2025-02-07T16:53:12.886655Z"
    },
    "papermill": {
     "duration": 1.024288,
     "end_time": "2025-02-07T16:53:12.889342",
     "exception": false,
     "start_time": "2025-02-07T16:53:11.865054",
     "status": "completed"
    },
    "tags": []
   },
   "outputs": [
    {
     "data": {
      "text/html": [
       "<div>\n",
       "<style scoped>\n",
       "    .dataframe tbody tr th:only-of-type {\n",
       "        vertical-align: middle;\n",
       "    }\n",
       "\n",
       "    .dataframe tbody tr th {\n",
       "        vertical-align: top;\n",
       "    }\n",
       "\n",
       "    .dataframe thead th {\n",
       "        text-align: right;\n",
       "    }\n",
       "</style>\n",
       "<table border=\"1\" class=\"dataframe\">\n",
       "  <thead>\n",
       "    <tr style=\"text-align: right;\">\n",
       "      <th></th>\n",
       "      <th>Brand</th>\n",
       "      <th>Material</th>\n",
       "      <th>Size</th>\n",
       "      <th>Compartments</th>\n",
       "      <th>Laptop Compartment</th>\n",
       "      <th>Waterproof</th>\n",
       "      <th>Style</th>\n",
       "      <th>Color</th>\n",
       "      <th>Weight Capacity (kg)</th>\n",
       "      <th>Price</th>\n",
       "    </tr>\n",
       "  </thead>\n",
       "  <tbody>\n",
       "    <tr>\n",
       "      <th>0</th>\n",
       "      <td>Jansport</td>\n",
       "      <td>Leather</td>\n",
       "      <td>Medium</td>\n",
       "      <td>7.0</td>\n",
       "      <td>Yes</td>\n",
       "      <td>No</td>\n",
       "      <td>Tote</td>\n",
       "      <td>Black</td>\n",
       "      <td>11.611723</td>\n",
       "      <td>112.15875</td>\n",
       "    </tr>\n",
       "    <tr>\n",
       "      <th>1</th>\n",
       "      <td>Jansport</td>\n",
       "      <td>Canvas</td>\n",
       "      <td>Small</td>\n",
       "      <td>10.0</td>\n",
       "      <td>Yes</td>\n",
       "      <td>Yes</td>\n",
       "      <td>Messenger</td>\n",
       "      <td>Green</td>\n",
       "      <td>27.078537</td>\n",
       "      <td>68.88056</td>\n",
       "    </tr>\n",
       "    <tr>\n",
       "      <th>2</th>\n",
       "      <td>Under Armour</td>\n",
       "      <td>Leather</td>\n",
       "      <td>Small</td>\n",
       "      <td>2.0</td>\n",
       "      <td>Yes</td>\n",
       "      <td>No</td>\n",
       "      <td>Messenger</td>\n",
       "      <td>Red</td>\n",
       "      <td>16.643760</td>\n",
       "      <td>39.17320</td>\n",
       "    </tr>\n",
       "    <tr>\n",
       "      <th>3</th>\n",
       "      <td>Nike</td>\n",
       "      <td>Nylon</td>\n",
       "      <td>Small</td>\n",
       "      <td>8.0</td>\n",
       "      <td>Yes</td>\n",
       "      <td>No</td>\n",
       "      <td>Messenger</td>\n",
       "      <td>Green</td>\n",
       "      <td>12.937220</td>\n",
       "      <td>80.60793</td>\n",
       "    </tr>\n",
       "    <tr>\n",
       "      <th>4</th>\n",
       "      <td>Adidas</td>\n",
       "      <td>Canvas</td>\n",
       "      <td>Medium</td>\n",
       "      <td>1.0</td>\n",
       "      <td>Yes</td>\n",
       "      <td>Yes</td>\n",
       "      <td>Messenger</td>\n",
       "      <td>Green</td>\n",
       "      <td>17.749338</td>\n",
       "      <td>86.02312</td>\n",
       "    </tr>\n",
       "  </tbody>\n",
       "</table>\n",
       "</div>"
      ],
      "text/plain": [
       "          Brand Material    Size  Compartments Laptop Compartment Waterproof  \\\n",
       "0      Jansport  Leather  Medium           7.0                Yes         No   \n",
       "1      Jansport   Canvas   Small          10.0                Yes        Yes   \n",
       "2  Under Armour  Leather   Small           2.0                Yes         No   \n",
       "3          Nike    Nylon   Small           8.0                Yes         No   \n",
       "4        Adidas   Canvas  Medium           1.0                Yes        Yes   \n",
       "\n",
       "       Style  Color  Weight Capacity (kg)      Price  \n",
       "0       Tote  Black             11.611723  112.15875  \n",
       "1  Messenger  Green             27.078537   68.88056  \n",
       "2  Messenger    Red             16.643760   39.17320  \n",
       "3  Messenger  Green             12.937220   80.60793  \n",
       "4  Messenger  Green             17.749338   86.02312  "
      ]
     },
     "execution_count": 2,
     "metadata": {},
     "output_type": "execute_result"
    }
   ],
   "source": [
    "train = pd.read_csv(\"/kaggle/input/playground-series-s5e2/train.csv\").drop('id', axis=1)\n",
    "test = pd.read_csv(\"/kaggle/input/playground-series-s5e2/test.csv\").drop('id', axis=1)\n",
    "submission = pd.read_csv('../input/playground-series-s5e2/sample_submission.csv')\n",
    "train.head()"
   ]
  },
  {
   "cell_type": "code",
   "execution_count": 3,
   "id": "f0f25a68",
   "metadata": {
    "execution": {
     "iopub.execute_input": "2025-02-07T16:53:12.896572Z",
     "iopub.status.busy": "2025-02-07T16:53:12.896312Z",
     "iopub.status.idle": "2025-02-07T16:53:12.901257Z",
     "shell.execute_reply": "2025-02-07T16:53:12.900344Z"
    },
    "papermill": {
     "duration": 0.009864,
     "end_time": "2025-02-07T16:53:12.902571",
     "exception": false,
     "start_time": "2025-02-07T16:53:12.892707",
     "status": "completed"
    },
    "tags": []
   },
   "outputs": [
    {
     "data": {
      "text/plain": [
       "['Brand',\n",
       " 'Material',\n",
       " 'Size',\n",
       " 'Compartments',\n",
       " 'Laptop Compartment',\n",
       " 'Waterproof',\n",
       " 'Style',\n",
       " 'Color']"
      ]
     },
     "execution_count": 3,
     "metadata": {},
     "output_type": "execute_result"
    }
   ],
   "source": [
    "cols_to_update = ['Brand', 'Material', 'Size', 'Compartments', 'Laptop Compartment',\n",
    "       'Waterproof', 'Style', 'Color']\n",
    "cols_to_update"
   ]
  },
  {
   "cell_type": "code",
   "execution_count": 4,
   "id": "ae1f45c3",
   "metadata": {
    "execution": {
     "iopub.execute_input": "2025-02-07T16:53:12.909304Z",
     "iopub.status.busy": "2025-02-07T16:53:12.909052Z",
     "iopub.status.idle": "2025-02-07T16:53:14.247676Z",
     "shell.execute_reply": "2025-02-07T16:53:14.246719Z"
    },
    "papermill": {
     "duration": 1.343771,
     "end_time": "2025-02-07T16:53:14.249426",
     "exception": false,
     "start_time": "2025-02-07T16:53:12.905655",
     "status": "completed"
    },
    "tags": []
   },
   "outputs": [],
   "source": [
    "train[cols_to_update] = train[cols_to_update].fillna('None').astype('string').astype('category')\n",
    "median_weight = train['Weight Capacity (kg)'].median()\n",
    "\n",
    "# The \"Weight Capacity (kg)\" feature is crucial and is split into two: \n",
    "# one categorical and one numerical column\n",
    "train['Weight Capacity (kg) categorical'] = train['Weight Capacity (kg)'].fillna(median_weight).astype('string')\n",
    "train['Weight Capacity (kg)'] = train['Weight Capacity (kg)'].fillna(median_weight).astype('float64')\n",
    "\n",
    "X = train.drop('Price', axis=1)\n",
    "y = train.Price\n",
    "\n",
    "# Same goes for test data\n",
    "test[cols_to_update] = test[cols_to_update].fillna('None').astype('string').astype('category')\n",
    "test['Weight Capacity (kg) categorical'] = test['Weight Capacity (kg)'].fillna(median_weight).astype('string')\n",
    "test['Weight Capacity (kg)'] = test['Weight Capacity (kg)'].fillna(median_weight)"
   ]
  },
  {
   "cell_type": "code",
   "execution_count": 5,
   "id": "7f5b3a93",
   "metadata": {
    "execution": {
     "iopub.execute_input": "2025-02-07T16:53:14.256212Z",
     "iopub.status.busy": "2025-02-07T16:53:14.255916Z",
     "iopub.status.idle": "2025-02-07T16:53:14.269481Z",
     "shell.execute_reply": "2025-02-07T16:53:14.268769Z"
    },
    "papermill": {
     "duration": 0.018188,
     "end_time": "2025-02-07T16:53:14.270756",
     "exception": false,
     "start_time": "2025-02-07T16:53:14.252568",
     "status": "completed"
    },
    "tags": []
   },
   "outputs": [
    {
     "data": {
      "text/html": [
       "<div>\n",
       "<style scoped>\n",
       "    .dataframe tbody tr th:only-of-type {\n",
       "        vertical-align: middle;\n",
       "    }\n",
       "\n",
       "    .dataframe tbody tr th {\n",
       "        vertical-align: top;\n",
       "    }\n",
       "\n",
       "    .dataframe thead th {\n",
       "        text-align: right;\n",
       "    }\n",
       "</style>\n",
       "<table border=\"1\" class=\"dataframe\">\n",
       "  <thead>\n",
       "    <tr style=\"text-align: right;\">\n",
       "      <th></th>\n",
       "      <th>Brand</th>\n",
       "      <th>Material</th>\n",
       "      <th>Size</th>\n",
       "      <th>Compartments</th>\n",
       "      <th>Laptop Compartment</th>\n",
       "      <th>Waterproof</th>\n",
       "      <th>Style</th>\n",
       "      <th>Color</th>\n",
       "      <th>Weight Capacity (kg)</th>\n",
       "      <th>Price</th>\n",
       "      <th>Weight Capacity (kg) categorical</th>\n",
       "    </tr>\n",
       "  </thead>\n",
       "  <tbody>\n",
       "    <tr>\n",
       "      <th>0</th>\n",
       "      <td>Jansport</td>\n",
       "      <td>Leather</td>\n",
       "      <td>Medium</td>\n",
       "      <td>7.0</td>\n",
       "      <td>Yes</td>\n",
       "      <td>No</td>\n",
       "      <td>Tote</td>\n",
       "      <td>Black</td>\n",
       "      <td>11.611723</td>\n",
       "      <td>112.15875</td>\n",
       "      <td>11.611722805222309</td>\n",
       "    </tr>\n",
       "    <tr>\n",
       "      <th>1</th>\n",
       "      <td>Jansport</td>\n",
       "      <td>Canvas</td>\n",
       "      <td>Small</td>\n",
       "      <td>10.0</td>\n",
       "      <td>Yes</td>\n",
       "      <td>Yes</td>\n",
       "      <td>Messenger</td>\n",
       "      <td>Green</td>\n",
       "      <td>27.078537</td>\n",
       "      <td>68.88056</td>\n",
       "      <td>27.07853658053123</td>\n",
       "    </tr>\n",
       "    <tr>\n",
       "      <th>2</th>\n",
       "      <td>Under Armour</td>\n",
       "      <td>Leather</td>\n",
       "      <td>Small</td>\n",
       "      <td>2.0</td>\n",
       "      <td>Yes</td>\n",
       "      <td>No</td>\n",
       "      <td>Messenger</td>\n",
       "      <td>Red</td>\n",
       "      <td>16.643760</td>\n",
       "      <td>39.17320</td>\n",
       "      <td>16.643759949103497</td>\n",
       "    </tr>\n",
       "    <tr>\n",
       "      <th>3</th>\n",
       "      <td>Nike</td>\n",
       "      <td>Nylon</td>\n",
       "      <td>Small</td>\n",
       "      <td>8.0</td>\n",
       "      <td>Yes</td>\n",
       "      <td>No</td>\n",
       "      <td>Messenger</td>\n",
       "      <td>Green</td>\n",
       "      <td>12.937220</td>\n",
       "      <td>80.60793</td>\n",
       "      <td>12.937220306632067</td>\n",
       "    </tr>\n",
       "    <tr>\n",
       "      <th>4</th>\n",
       "      <td>Adidas</td>\n",
       "      <td>Canvas</td>\n",
       "      <td>Medium</td>\n",
       "      <td>1.0</td>\n",
       "      <td>Yes</td>\n",
       "      <td>Yes</td>\n",
       "      <td>Messenger</td>\n",
       "      <td>Green</td>\n",
       "      <td>17.749338</td>\n",
       "      <td>86.02312</td>\n",
       "      <td>17.749338465908988</td>\n",
       "    </tr>\n",
       "  </tbody>\n",
       "</table>\n",
       "</div>"
      ],
      "text/plain": [
       "          Brand Material    Size Compartments Laptop Compartment Waterproof  \\\n",
       "0      Jansport  Leather  Medium          7.0                Yes         No   \n",
       "1      Jansport   Canvas   Small         10.0                Yes        Yes   \n",
       "2  Under Armour  Leather   Small          2.0                Yes         No   \n",
       "3          Nike    Nylon   Small          8.0                Yes         No   \n",
       "4        Adidas   Canvas  Medium          1.0                Yes        Yes   \n",
       "\n",
       "       Style  Color  Weight Capacity (kg)      Price  \\\n",
       "0       Tote  Black             11.611723  112.15875   \n",
       "1  Messenger  Green             27.078537   68.88056   \n",
       "2  Messenger    Red             16.643760   39.17320   \n",
       "3  Messenger  Green             12.937220   80.60793   \n",
       "4  Messenger  Green             17.749338   86.02312   \n",
       "\n",
       "  Weight Capacity (kg) categorical  \n",
       "0               11.611722805222309  \n",
       "1                27.07853658053123  \n",
       "2               16.643759949103497  \n",
       "3               12.937220306632067  \n",
       "4               17.749338465908988  "
      ]
     },
     "execution_count": 5,
     "metadata": {},
     "output_type": "execute_result"
    }
   ],
   "source": [
    "train.head()"
   ]
  },
  {
   "cell_type": "code",
   "execution_count": 6,
   "id": "5c43c24f",
   "metadata": {
    "execution": {
     "iopub.execute_input": "2025-02-07T16:53:14.277230Z",
     "iopub.status.busy": "2025-02-07T16:53:14.276963Z",
     "iopub.status.idle": "2025-02-07T16:53:14.309867Z",
     "shell.execute_reply": "2025-02-07T16:53:14.308956Z"
    },
    "papermill": {
     "duration": 0.037456,
     "end_time": "2025-02-07T16:53:14.311137",
     "exception": false,
     "start_time": "2025-02-07T16:53:14.273681",
     "status": "completed"
    },
    "tags": []
   },
   "outputs": [
    {
     "name": "stdout",
     "output_type": "stream",
     "text": [
      "<class 'pandas.core.frame.DataFrame'>\n",
      "RangeIndex: 300000 entries, 0 to 299999\n",
      "Data columns (total 11 columns):\n",
      " #   Column                            Non-Null Count   Dtype   \n",
      "---  ------                            --------------   -----   \n",
      " 0   Brand                             300000 non-null  category\n",
      " 1   Material                          300000 non-null  category\n",
      " 2   Size                              300000 non-null  category\n",
      " 3   Compartments                      300000 non-null  category\n",
      " 4   Laptop Compartment                300000 non-null  category\n",
      " 5   Waterproof                        300000 non-null  category\n",
      " 6   Style                             300000 non-null  category\n",
      " 7   Color                             300000 non-null  category\n",
      " 8   Weight Capacity (kg)              300000 non-null  float64 \n",
      " 9   Price                             300000 non-null  float64 \n",
      " 10  Weight Capacity (kg) categorical  300000 non-null  string  \n",
      "dtypes: category(8), float64(2), string(1)\n",
      "memory usage: 9.2 MB\n"
     ]
    }
   ],
   "source": [
    "train.info()"
   ]
  },
  {
   "cell_type": "code",
   "execution_count": 7,
   "id": "a7329378",
   "metadata": {
    "execution": {
     "iopub.execute_input": "2025-02-07T16:53:14.317786Z",
     "iopub.status.busy": "2025-02-07T16:53:14.317550Z",
     "iopub.status.idle": "2025-02-07T16:53:14.325222Z",
     "shell.execute_reply": "2025-02-07T16:53:14.324395Z"
    },
    "papermill": {
     "duration": 0.012332,
     "end_time": "2025-02-07T16:53:14.326450",
     "exception": false,
     "start_time": "2025-02-07T16:53:14.314118",
     "status": "completed"
    },
    "tags": []
   },
   "outputs": [],
   "source": [
    "cat_cols = ['Brand', 'Material', 'Size', 'Compartments', 'Laptop Compartment',\n",
    "       'Waterproof', 'Style', 'Color', 'Weight Capacity (kg) categorical']\n",
    "\n",
    "trial = False\n",
    "\n",
    "if trial:\n",
    "\n",
    "    def objective(trial):\n",
    "        params = {\n",
    "        'loss_function': 'RMSE',\n",
    "        'eval_metric': 'RMSE',\n",
    "        'learning_rate': trial.suggest_float('learning_rate', 0.01, 0.3, log=True),\n",
    "        'iterations': 2000,\n",
    "        'depth': trial.suggest_int('depth', 3, 10),\n",
    "        'random_strength': 0,\n",
    "        'l2_leaf_reg': trial.suggest_float('l2_leaf_reg', 1e-3, 10.0, log=True),\n",
    "        'task_type':'GPU',\n",
    "        'random_seed':42,\n",
    "        'verbose':False\n",
    "        }\n",
    "        \n",
    "        \n",
    "        cv = KFold(5, shuffle=True, random_state=0)\n",
    "        cv_splits = cv.split(X, y)\n",
    "        scores = list()\n",
    "        for train_idx, val_idx in cv_splits:\n",
    "            model = CatBoostRegressor(**params)\n",
    "            X_train_fold, X_val_fold = X.loc[train_idx], X.loc[val_idx]\n",
    "            y_train_fold, y_val_fold = y.loc[train_idx], y.loc[val_idx]\n",
    "            X_train_pool = Pool(X_train_fold, y_train_fold, cat_features=cat_cols)\n",
    "            X_valid_pool = Pool(X_val_fold, y_val_fold, cat_features=cat_cols)\n",
    "            model.fit(X=X_train_pool, eval_set=X_valid_pool, verbose=False, early_stopping_rounds=200)\n",
    "            #model.fit(train_pool, eval_set=valid_pool, early_stopping_rounds=50, verbose=False)\n",
    "    \n",
    "            val_pred = model.predict(X_valid_pool)\n",
    "            score = np.sqrt(mean_squared_error(y_val_fold, val_pred))\n",
    "            scores.append(score)  \n",
    "        return np.mean(scores)\n",
    "    \n",
    "    sqlite_db = \"sqlite:///catboost.db\"\n",
    "    study_name = \"catboost\"\n",
    "    \n",
    "    study = optuna.create_study(direction=\"minimize\", study_name = study_name, storage = sqlite_db,\n",
    "                                load_if_exists = True)\n",
    "    study.optimize(objective, n_trials=100)\n",
    "    \n",
    "    # Best Hyperparameters\n",
    "    \n",
    "    study.optimize(objective, n_trials=100)\n",
    "    print(f\"best optimized RMSE: {study.best_value:0.5f}\") \n",
    "    print(f\"best hyperparameters: {study.best_params}\") \n",
    "    catboost_params = study.best_params\n",
    "\n",
    "else: \n",
    "    best_params = {\n",
    "        'loss_function': 'RMSE',\n",
    "        'eval_metric': 'RMSE',\n",
    "        'learning_rate': 0.10907108735803546,\n",
    "        'iterations': 2000,\n",
    "        'depth': 3,\n",
    "        'random_strength': 0,\n",
    "        'l2_leaf_reg': 0.002735573074939131,\n",
    "        'task_type':'GPU',\n",
    "        'random_seed':42,\n",
    "        'verbose':False\n",
    "        }"
   ]
  },
  {
   "cell_type": "code",
   "execution_count": 8,
   "id": "021be56f",
   "metadata": {
    "execution": {
     "iopub.execute_input": "2025-02-07T16:53:14.332948Z",
     "iopub.status.busy": "2025-02-07T16:53:14.332726Z",
     "iopub.status.idle": "2025-02-07T16:53:14.337024Z",
     "shell.execute_reply": "2025-02-07T16:53:14.336227Z"
    },
    "papermill": {
     "duration": 0.008912,
     "end_time": "2025-02-07T16:53:14.338354",
     "exception": false,
     "start_time": "2025-02-07T16:53:14.329442",
     "status": "completed"
    },
    "tags": []
   },
   "outputs": [
    {
     "data": {
      "text/plain": [
       "{'loss_function': 'RMSE',\n",
       " 'eval_metric': 'RMSE',\n",
       " 'learning_rate': 0.10907108735803546,\n",
       " 'iterations': 2000,\n",
       " 'depth': 3,\n",
       " 'random_strength': 0,\n",
       " 'l2_leaf_reg': 0.002735573074939131,\n",
       " 'task_type': 'GPU',\n",
       " 'random_seed': 42,\n",
       " 'verbose': False}"
      ]
     },
     "execution_count": 8,
     "metadata": {},
     "output_type": "execute_result"
    }
   ],
   "source": [
    "best_params"
   ]
  },
  {
   "cell_type": "code",
   "execution_count": 9,
   "id": "a79f6f4c",
   "metadata": {
    "execution": {
     "iopub.execute_input": "2025-02-07T16:53:14.345257Z",
     "iopub.status.busy": "2025-02-07T16:53:14.345000Z",
     "iopub.status.idle": "2025-02-07T16:54:51.821692Z",
     "shell.execute_reply": "2025-02-07T16:54:51.820695Z"
    },
    "papermill": {
     "duration": 97.485168,
     "end_time": "2025-02-07T16:54:51.826629",
     "exception": false,
     "start_time": "2025-02-07T16:53:14.341461",
     "status": "completed"
    },
    "tags": []
   },
   "outputs": [
    {
     "name": "stdout",
     "output_type": "stream",
     "text": [
      "Mean Score: 38.96467261942098\n"
     ]
    }
   ],
   "source": [
    "cv = KFold(5, shuffle=True, random_state=0)\n",
    "cv_splits = cv.split(X, y)\n",
    "scores = list()\n",
    "y_preds = np.zeros(len(test))\n",
    "X_test_pool = Pool(test, cat_features=cat_cols)\n",
    "for train_idx, val_idx in cv_splits:\n",
    "    model = CatBoostRegressor(**best_params)\n",
    "    X_train_fold, X_val_fold = X.loc[train_idx], X.loc[val_idx]\n",
    "    y_train_fold, y_val_fold = y.loc[train_idx], y.loc[val_idx]\n",
    "    X_train_pool = Pool(X_train_fold, y_train_fold, cat_features=cat_cols)\n",
    "    X_valid_pool = Pool(X_val_fold, y_val_fold, cat_features=cat_cols)\n",
    "    model.fit(X=X_train_pool, eval_set=X_valid_pool, verbose=False, early_stopping_rounds=200)\n",
    "    #model.fit(train_pool, eval_set=valid_pool, early_stopping_rounds=50, verbose=False)\n",
    "\n",
    "    val_pred = model.predict(X_valid_pool)\n",
    "    score = np.sqrt(mean_squared_error(y_val_fold, val_pred))\n",
    "    scores.append(score)  \n",
    "    y_preds += model.predict(X_test_pool) / 5\n",
    "print(f'Mean Score: {np.mean(scores)}')"
   ]
  },
  {
   "cell_type": "code",
   "execution_count": 10,
   "id": "f93e5191",
   "metadata": {
    "execution": {
     "iopub.execute_input": "2025-02-07T16:54:51.837789Z",
     "iopub.status.busy": "2025-02-07T16:54:51.837516Z",
     "iopub.status.idle": "2025-02-07T16:54:51.842355Z",
     "shell.execute_reply": "2025-02-07T16:54:51.841540Z"
    },
    "papermill": {
     "duration": 0.011936,
     "end_time": "2025-02-07T16:54:51.843774",
     "exception": false,
     "start_time": "2025-02-07T16:54:51.831838",
     "status": "completed"
    },
    "tags": []
   },
   "outputs": [
    {
     "data": {
      "text/plain": [
       "((200000, 2), (200000,))"
      ]
     },
     "execution_count": 10,
     "metadata": {},
     "output_type": "execute_result"
    }
   ],
   "source": [
    "submission.shape, y_preds.shape"
   ]
  },
  {
   "cell_type": "code",
   "execution_count": 11,
   "id": "2a2303fd",
   "metadata": {
    "execution": {
     "iopub.execute_input": "2025-02-07T16:54:51.854759Z",
     "iopub.status.busy": "2025-02-07T16:54:51.854543Z",
     "iopub.status.idle": "2025-02-07T16:54:52.174597Z",
     "shell.execute_reply": "2025-02-07T16:54:52.173680Z"
    },
    "papermill": {
     "duration": 0.327671,
     "end_time": "2025-02-07T16:54:52.176596",
     "exception": false,
     "start_time": "2025-02-07T16:54:51.848925",
     "status": "completed"
    },
    "tags": []
   },
   "outputs": [],
   "source": [
    "submission['Price'] = y_preds\n",
    "submission.to_csv('submission.csv', index = False)"
   ]
  }
 ],
 "metadata": {
  "kaggle": {
   "accelerator": "gpu",
   "dataSources": [
    {
     "databundleVersionId": 10995111,
     "sourceId": 90274,
     "sourceType": "competition"
    }
   ],
   "dockerImageVersionId": 30839,
   "isGpuEnabled": true,
   "isInternetEnabled": true,
   "language": "python",
   "sourceType": "notebook"
  },
  "kernelspec": {
   "display_name": "Python 3",
   "language": "python",
   "name": "python3"
  },
  "language_info": {
   "codemirror_mode": {
    "name": "ipython",
    "version": 3
   },
   "file_extension": ".py",
   "mimetype": "text/x-python",
   "name": "python",
   "nbconvert_exporter": "python",
   "pygments_lexer": "ipython3",
   "version": "3.10.12"
  },
  "papermill": {
   "default_parameters": {},
   "duration": 113.819871,
   "end_time": "2025-02-07T16:54:54.651461",
   "environment_variables": {},
   "exception": null,
   "input_path": "__notebook__.ipynb",
   "output_path": "__notebook__.ipynb",
   "parameters": {},
   "start_time": "2025-02-07T16:53:00.831590",
   "version": "2.6.0"
  }
 },
 "nbformat": 4,
 "nbformat_minor": 5
}
